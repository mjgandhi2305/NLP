{
 "cells": [
  {
   "cell_type": "code",
   "execution_count": 2,
   "id": "8fbf27ac",
   "metadata": {},
   "outputs": [
    {
     "name": "stdout",
     "output_type": "stream",
     "text": [
      "cat = Accepted\n",
      "dog = Accepted\n",
      "A = Not Accepted\n",
      "zebra = Accepted\n",
      "dog1 = Not Accepted\n",
      "1dog = Not Accepted\n",
      "DogHouse = Not Accepted\n",
      "Dog_house = Not Accepted\n",
      " cats = Accepted\n"
     ]
    }
   ],
   "source": [
    "import re\n",
    "\n",
    "def is_valid_english_word(word):\n",
    "    # Must start with lowercase, followed by zero or more lowercase letters only\n",
    "    pattern = r'^[a-z]+$'\n",
    "    return bool(re.match(pattern, word))\n",
    "\n",
    "# Test words\n",
    "words = [\"cat\", \"dog\", \"A\", \"zebra\", \"dog1\", \"1dog\", \"DogHouse\", \"Dog_house\", \" cats\"]\n",
    "\n",
    "for word in words:\n",
    "    result = \"Accepted\" if is_valid_english_word(word.strip()) else \"Not Accepted\"\n",
    "    print(f\"{word} = {result}\")\n"
   ]
  },
  {
   "cell_type": "code",
   "execution_count": 15,
   "id": "9b7e55dc",
   "metadata": {},
   "outputs": [
    {
     "name": "stdout",
     "output_type": "stream",
     "text": [
      "cat = Accepted\n",
      "dog = Accepted\n",
      "A = Not Accepted\n",
      "zebra = Accepted\n",
      "dog1 = Not Accepted\n",
      "1dog = Not Accepted\n",
      "DogHouse = Not Accepted\n",
      "Dog_house = Not Accepted\n",
      " cats = Accepted\n",
      "!do@g = Not Accepted\n"
     ]
    }
   ],
   "source": [
    "from visual_automata.fa.dfa import DFA\n",
    "\n",
    "# Define DFA\n",
    "dfa = DFA(\n",
    "    states={\"q0\", \"q1\", \"q_dead\"},\n",
    "    input_symbols=set(\"abcdefghijklmnopqrstuvwxyzABCDEFGHIJKLMNOPQRSTUVWXYZ0123456789_ \"),\n",
    "    transitions={\n",
    "        \"q0\": {ch: \"q1\" if ch.islower() else \"q_dead\" for ch in \"abcdefghijklmnopqrstuvwxyzABCDEFGHIJKLMNOPQRSTUVWXYZ0123456789_ \"},\n",
    "        \"q1\": {ch: \"q1\" if ch.islower() else \"q_dead\" for ch in \"abcdefghijklmnopqrstuvwxyzABCDEFGHIJKLMNOPQRSTUVWXYZ0123456789_ \"},\n",
    "        \"q_dead\": {ch: \"q_dead\" for ch in \"abcdefghijklmnopqrstuvwxyzABCDEFGHIJKLMNOPQRSTUVWXYZ0123456789_ \"}\n",
    "    },\n",
    "    initial_state=\"q0\",\n",
    "    final_states={\"q1\"},\n",
    ")\n",
    "\n",
    "test_words = [\"cat\", \"dog\", \"A\", \"zebra\", \"dog1\", \"1dog\", \"DogHouse\", \"Dog_house\", \" cats\", \"!do@g\"]\n",
    "\n",
    "for word in test_words:\n",
    "    result = \"Accepted\" if dfa.accepts_input(word.strip()) else \"Not Accepted\"\n",
    "    print(f\"{word} = {result}\")\n"
   ]
  },
  {
   "cell_type": "code",
   "execution_count": 23,
   "id": "cbd3edae",
   "metadata": {},
   "outputs": [
    {
     "data": {
      "text/plain": [
       "True"
      ]
     },
     "execution_count": 23,
     "metadata": {},
     "output_type": "execute_result"
    }
   ],
   "source": [
    "automata.is_valid()    # True"
   ]
  },
  {
   "cell_type": "code",
   "execution_count": 27,
   "id": "a0c201f6",
   "metadata": {},
   "outputs": [
    {
     "name": "stdout",
     "output_type": "stream",
     "text": [
      "Collecting coloraide\n",
      "  Downloading coloraide-4.7.2-py3-none-any.whl.metadata (4.0 kB)\n",
      "Downloading coloraide-4.7.2-py3-none-any.whl (267 kB)\n",
      "   ---------------------------------------- 0.0/267.4 kB ? eta -:--:--\n",
      "   - -------------------------------------- 10.2/267.4 kB ? eta -:--:--\n",
      "   -------- ------------------------------ 61.4/267.4 kB 544.7 kB/s eta 0:00:01\n",
      "   ----------------- -------------------- 122.9/267.4 kB 798.9 kB/s eta 0:00:01\n",
      "   ------------------------ ------------- 174.1/267.4 kB 871.5 kB/s eta 0:00:01\n",
      "   ----------------------------- -------- 204.8/267.4 kB 888.4 kB/s eta 0:00:01\n",
      "   -------------------------------------  266.2/267.4 kB 962.4 kB/s eta 0:00:01\n",
      "   -------------------------------------- 267.4/267.4 kB 865.8 kB/s eta 0:00:00\n",
      "Installing collected packages: coloraide\n",
      "Successfully installed coloraide-4.7.2\n",
      "Note: you may need to restart the kernel to use updated packages.\n"
     ]
    },
    {
     "name": "stderr",
     "output_type": "stream",
     "text": [
      "\n",
      "[notice] A new release of pip is available: 24.1.2 -> 25.2\n",
      "[notice] To update, run: python.exe -m pip install --upgrade pip\n"
     ]
    }
   ],
   "source": [
    "%pip install coloraide"
   ]
  },
  {
   "cell_type": "code",
   "execution_count": 30,
   "id": "55c80699",
   "metadata": {},
   "outputs": [
    {
     "name": "stdout",
     "output_type": "stream",
     "text": [
      "cat = Accepted\n",
      "dog = Accepted\n",
      "A = Not Accepted\n",
      "zebra = Accepted\n",
      "dog1 = Not Accepted\n",
      "1dog = Not Accepted\n",
      "DogHouse = Not Accepted\n",
      "Dog_house = Not Accepted\n",
      " cats = Accepted\n"
     ]
    },
    {
     "ename": "ImportError",
     "evalue": "Missing visualization packages; please install coloraide and pygraphviz.",
     "output_type": "error",
     "traceback": [
      "\u001b[1;31m---------------------------------------------------------------------------\u001b[0m",
      "\u001b[1;31mImportError\u001b[0m                               Traceback (most recent call last)",
      "Cell \u001b[1;32mIn[30], line 21\u001b[0m\n\u001b[0;32m     18\u001b[0m     result \u001b[38;5;241m=\u001b[39m \u001b[38;5;124m\"\u001b[39m\u001b[38;5;124mAccepted\u001b[39m\u001b[38;5;124m\"\u001b[39m \u001b[38;5;28;01mif\u001b[39;00m dfa\u001b[38;5;241m.\u001b[39maccepts_input(word\u001b[38;5;241m.\u001b[39mstrip()) \u001b[38;5;28;01melse\u001b[39;00m \u001b[38;5;124m\"\u001b[39m\u001b[38;5;124mNot Accepted\u001b[39m\u001b[38;5;124m\"\u001b[39m\n\u001b[0;32m     19\u001b[0m     \u001b[38;5;28mprint\u001b[39m(\u001b[38;5;124mf\u001b[39m\u001b[38;5;124m\"\u001b[39m\u001b[38;5;132;01m{\u001b[39;00mword\u001b[38;5;132;01m}\u001b[39;00m\u001b[38;5;124m = \u001b[39m\u001b[38;5;132;01m{\u001b[39;00mresult\u001b[38;5;132;01m}\u001b[39;00m\u001b[38;5;124m\"\u001b[39m)\n\u001b[1;32m---> 21\u001b[0m \u001b[43mdfa\u001b[49m\u001b[38;5;241;43m.\u001b[39;49m\u001b[43mshow_diagram\u001b[49m\u001b[43m(\u001b[49m\u001b[43m)\u001b[49m\n",
      "File \u001b[1;32m~\\AppData\\Roaming\\Python\\Python311\\site-packages\\automata\\fa\\fa.py:96\u001b[0m, in \u001b[0;36mFA.show_diagram\u001b[1;34m(self, input_str, path, layout_method, horizontal, reverse_orientation, fig_size, font_size, arrow_size, state_separation)\u001b[0m\n\u001b[0;32m     66\u001b[0m \u001b[38;5;250m\u001b[39m\u001b[38;5;124;03m\"\"\"\u001b[39;00m\n\u001b[0;32m     67\u001b[0m \u001b[38;5;124;03mGenerates a diagram of the associated automaton.\u001b[39;00m\n\u001b[0;32m     68\u001b[0m \n\u001b[1;32m   (...)\u001b[0m\n\u001b[0;32m     92\u001b[0m \u001b[38;5;124;03m    A diagram of the given automaton.\u001b[39;00m\n\u001b[0;32m     93\u001b[0m \u001b[38;5;124;03m\"\"\"\u001b[39;00m\n\u001b[0;32m     95\u001b[0m \u001b[38;5;28;01mif\u001b[39;00m _missing_visual_imports:\n\u001b[1;32m---> 96\u001b[0m     \u001b[38;5;28;01mraise\u001b[39;00m _missing_visual_imports\n\u001b[0;32m     98\u001b[0m \u001b[38;5;66;03m# Defining the graph.\u001b[39;00m\n\u001b[0;32m     99\u001b[0m graph \u001b[38;5;241m=\u001b[39m create_graph(\n\u001b[0;32m    100\u001b[0m     horizontal, reverse_orientation, fig_size, state_separation\n\u001b[0;32m    101\u001b[0m )\n",
      "\u001b[1;31mImportError\u001b[0m: Missing visualization packages; please install coloraide and pygraphviz."
     ]
    }
   ],
   "source": [
    "from visual_automata.fa.dfa import DFA\n",
    "\n",
    "dfa = DFA(\n",
    "    states={\"q0\", \"q1\", \"q_dead\"},\n",
    "    input_symbols=set(\"abcdefghijklmnopqrstuvwxyzABCDEFGHIJKLMNOPQRSTUVWXYZ0123456789_ \"),\n",
    "    transitions={\n",
    "        \"q0\": {ch: \"q1\" if ch.islower() else \"q_dead\" for ch in \"abcdefghijklmnopqrstuvwxyzABCDEFGHIJKLMNOPQRSTUVWXYZ0123456789_ \"},\n",
    "        \"q1\": {ch: \"q1\" if ch.islower() else \"q_dead\" for ch in \"abcdefghijklmnopqrstuvwxyzABCDEFGHIJKLMNOPQRSTUVWXYZ0123456789_ \"},\n",
    "        \"q_dead\": {ch: \"q_dead\" for ch in \"abcdefghijklmnopqrstuvwxyzABCDEFGHIJKLMNOPQRSTUVWXYZ0123456789_ \"}\n",
    "    },\n",
    "    initial_state=\"q0\",\n",
    "    final_states={\"q1\"},\n",
    ")\n",
    "\n",
    "# Test the DFA\n",
    "test_words = [\"cat\", \"dog\", \"A\", \"zebra\", \"dog1\", \"1dog\", \"DogHouse\", \"Dog_house\", \" cats\"]\n",
    "for word in test_words:\n",
    "    result = \"Accepted\" if dfa.accepts_input(word.strip()) else \"Not Accepted\"\n",
    "    print(f\"{word} = {result}\")\n",
    "\n",
    "dfa.show_diagram()"
   ]
  },
  {
   "cell_type": "code",
   "execution_count": null,
   "id": "af607a52",
   "metadata": {},
   "outputs": [],
   "source": []
  }
 ],
 "metadata": {
  "kernelspec": {
   "display_name": "Python 3",
   "language": "python",
   "name": "python3"
  },
  "language_info": {
   "codemirror_mode": {
    "name": "ipython",
    "version": 3
   },
   "file_extension": ".py",
   "mimetype": "text/x-python",
   "name": "python",
   "nbconvert_exporter": "python",
   "pygments_lexer": "ipython3",
   "version": "3.11.8"
  }
 },
 "nbformat": 4,
 "nbformat_minor": 5
}
